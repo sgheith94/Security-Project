{
 "cells": [
  {
   "cell_type": "markdown",
   "id": "a70e30cf",
   "metadata": {},
   "source": [
    "# All materials are from wikipedia\n",
    "https://en.wikipedia.org/wiki/DES_supplementary_material"
   ]
  },
  {
   "cell_type": "markdown",
   "id": "9e6168de",
   "metadata": {},
   "source": [
    "# 1. Supplementry Material"
   ]
  },
  {
   "cell_type": "code",
   "execution_count": 1,
   "id": "a0e75cc7",
   "metadata": {},
   "outputs": [],
   "source": [
    "import random"
   ]
  },
  {
   "cell_type": "code",
   "execution_count": 18,
   "id": "d742e4da",
   "metadata": {},
   "outputs": [],
   "source": [
    "import string"
   ]
  },
  {
   "cell_type": "code",
   "execution_count": 3,
   "id": "2d398f05",
   "metadata": {},
   "outputs": [],
   "source": [
    "IP = [58,50,42,34,26,18,10,2,\n",
    "    60,52,44,36,28,20,12,4,\n",
    "    62,54,46,38,30,22,14,6,\n",
    "    64,56,48,40,32,24,16,8,\n",
    "    57,49,41,33,25,17,9,1,\n",
    "    59,51,43,35,27,19,11,3,\n",
    "    61,53,45,37,29,21,13,5,\n",
    "    63,55,47,39,31,23,15,7]"
   ]
  },
  {
   "cell_type": "code",
   "execution_count": 4,
   "id": "0fb43dd5",
   "metadata": {},
   "outputs": [],
   "source": [
    "IP_Inverse = [40,8,48,16,56,24,64,32,\n",
    "            39,7,47,15,55,23,63,31,\n",
    "            38,6,46,14,54,22,62,30,\n",
    "            37,5,45,13,53,21,61,29,\n",
    "            36,4,44,12,52,20,60,28,\n",
    "            35,3,43,11,51,19,59,27,\n",
    "            34,2,42,10,50,18,58,26,\n",
    "            33,1,41,9,49,17,57,25]"
   ]
  },
  {
   "cell_type": "code",
   "execution_count": 5,
   "id": "582b9baa",
   "metadata": {},
   "outputs": [],
   "source": [
    "Expansion = [32, 1 , 2 , 3 , 4 , 5 , 4 , 5,\n",
    "         6 , 7 , 8 , 9 , 8 , 9 , 10, 11,\n",
    "         12, 13, 12, 13, 14, 15, 16, 17,\n",
    "         16, 17, 18, 19, 20, 21, 20, 21,\n",
    "         22, 23, 24, 25, 24, 25, 26, 27,\n",
    "         28, 29, 28, 29, 30, 31, 32, 1 ]"
   ]
  },
  {
   "cell_type": "code",
   "execution_count": 6,
   "id": "665b51c7",
   "metadata": {},
   "outputs": [],
   "source": [
    "Permutation = [16,7,20,21,29,12,28,17,\n",
    "                1,15,23,26,5,18,31,10,\n",
    "                2,8,24,14,32,27,3,9,\n",
    "                19,13,30,6,22,11,4,25]"
   ]
  },
  {
   "cell_type": "code",
   "execution_count": 7,
   "id": "614e1d77",
   "metadata": {},
   "outputs": [],
   "source": [
    "S_box = [\n",
    "    [                      #s-box1\n",
    "        [14, 4, 13, 1, 2, 15, 11, 8, 3, 10, 6, 12, 5, 9, 0, 7],\n",
    "        [ 0, 15, 7, 4, 14, 2, 13, 1, 10, 6, 12, 11, 9, 5, 3, 8],\n",
    "        [ 4, 1, 14, 8, 13, 6, 2, 11, 15, 12, 9, 7, 3, 10, 5, 0],\n",
    "        [15, 12, 8, 2, 4, 9, 1, 7, 5, 11, 3, 14, 10, 0, 6, 13 ]\n",
    "    ],                     #s-box2\n",
    "    [\n",
    "        [15, 1, 8, 14, 6, 11, 3, 4, 9, 7, 2, 13, 12, 0, 5, 10],\n",
    "        [3, 13, 4, 7, 15, 2, 8, 14, 12, 0, 1, 10, 6, 9, 11, 5],\n",
    "        [0, 14, 7, 11, 10, 4, 13, 1, 5, 8, 12, 6, 9, 3, 2, 15],\n",
    "        [13, 8, 10, 1, 3, 15, 4, 2, 11, 6, 7, 12, 0, 5, 14, 9 ]\n",
    "    ],                     #s-box3\n",
    "    [\n",
    "        [10, 0, 9, 14, 6, 3, 15, 5, 1, 13, 12, 7, 11, 4, 2, 8],\n",
    "        [13, 7, 0, 9, 3, 4, 6, 10, 2, 8, 5, 14, 12, 11, 15, 1],\n",
    "        [13, 6, 4, 9, 8, 15, 3, 0, 11, 1, 2, 12, 5, 10, 14, 7],\n",
    "        [1, 10, 13, 0, 6, 9, 8, 7, 4, 15, 14, 3, 11, 5, 2, 12 ]\n",
    "    ],                     #s-box4\n",
    "    [\n",
    "        [7, 13, 14, 3, 0, 6, 9, 10, 1, 2, 8, 5, 11, 12, 4, 15],\n",
    "        [13, 8, 11, 5, 6, 15, 0, 3, 4, 7, 2, 12, 1, 10, 14, 9],\n",
    "        [10, 6, 9, 0, 12, 11, 7, 13, 15, 1, 3, 14, 5, 2, 8, 4],\n",
    "        [3, 15, 0, 6, 10, 1, 13, 8, 9, 4, 5, 11, 12, 7, 2, 14]\n",
    "    ],                      #s-box5\n",
    "    [\n",
    "        [2, 12, 4, 1, 7, 10, 11, 6, 8, 5, 3, 15, 13, 0, 14, 9],\n",
    "        [14, 11, 2, 12, 4, 7, 13, 1, 5, 0, 15, 10, 3, 9, 8, 6],\n",
    "        [4, 2, 1, 11, 10, 13, 7, 8, 15, 9, 12, 5, 6, 3, 0, 14],\n",
    "        [11, 8, 12, 7, 1, 14, 2, 13, 6, 15, 0, 9, 10, 4, 5, 3 ]\n",
    "    ],                       #s-box6\n",
    "    [\n",
    "        [12, 1, 10, 15, 9, 2, 6, 8, 0, 13, 3, 4, 14, 7, 5, 11],\n",
    "        [10, 15, 4, 2, 7, 12, 9, 5, 6, 1, 13, 14, 0, 11, 3, 8],\n",
    "        [9, 14, 15, 5, 2, 8, 12, 3, 7, 0, 4, 10, 1, 13, 11, 6],\n",
    "        [4, 3, 2, 12, 9, 5, 15, 10, 11, 14, 1, 7, 6, 0, 8, 13] \n",
    "    ],                       #s-box7\n",
    "    [\n",
    "        [4, 11, 2, 14, 15, 0, 8, 13, 3, 12, 9, 7, 5, 10, 6, 1],\n",
    "        [13, 0, 11, 7, 4, 9, 1, 10, 14, 3, 5, 12, 2, 15, 8, 6],\n",
    "        [1, 4, 11, 13, 12, 3, 7, 14, 10, 15, 6, 8, 0, 5, 9, 2],\n",
    "        [6, 11, 13, 8, 1, 4, 10, 7, 9, 5, 0, 15, 14, 2, 3, 12]\n",
    "    ],                       #s-box8\n",
    "    [\n",
    "        [13, 2, 8, 4, 6, 15, 11, 1, 10, 9, 3, 14, 5, 0, 12, 7],\n",
    "        [1, 15, 13, 8, 10, 3, 7, 4, 12, 5, 6, 11, 0, 14, 9, 2],\n",
    "        [7, 11, 4, 1, 9, 12, 14, 2, 0, 6, 10, 13, 15, 3, 5, 8],\n",
    "        [2, 1, 14, 7, 4, 10, 8, 13, 15, 12, 9, 0, 3, 5, 6, 11]\n",
    "    ]\n",
    "]"
   ]
  },
  {
   "cell_type": "code",
   "execution_count": 8,
   "id": "4f27246c",
   "metadata": {},
   "outputs": [],
   "source": [
    "Shift_table = [ 1, 1, 2, 2,\n",
    "                2, 2, 2, 2,\n",
    "                1, 2, 2, 2,\n",
    "                2, 2, 2, 1 ] #BIT ROTATION"
   ]
  },
  {
   "cell_type": "code",
   "execution_count": 9,
   "id": "cd08bcbd",
   "metadata": {},
   "outputs": [],
   "source": [
    "Key_compression = [ 14,17,11,24,1,5,3,28,\n",
    "                    15,6,21,10,23,19,12,4,\n",
    "                    26,8,16,7,27,20,13,2,\n",
    "                    41,52,31,37,47,55,30,40,\n",
    "                    51,45,33,48,44,49,39,56,\n",
    "                    34,53,46,42,50,36,29,32 ]"
   ]
  },
  {
   "cell_type": "code",
   "execution_count": 10,
   "id": "2d3f1c64",
   "metadata": {},
   "outputs": [],
   "source": [
    "Conversions = { '0' : \"0000\",\n",
    "                '1' : \"0001\",\n",
    "                '2' : \"0010\",\n",
    "                '3' : \"0011\",\n",
    "                '4' : \"0100\",\n",
    "                '5' : \"0101\",\n",
    "                '6' : \"0110\",\n",
    "                '7' : \"0111\",\n",
    "                '8' : \"1000\",\n",
    "                '9' : \"1001\",\n",
    "                'A' : \"1010\",\n",
    "                'B' : \"1011\",\n",
    "                'C' : \"1100\",\n",
    "                'D' : \"1101\",\n",
    "                'E' : \"1110\",\n",
    "                'F' : \"1111\",\n",
    "                'a' : \"1010\",\n",
    "                'b' : \"1011\",\n",
    "                'c' : \"1100\",\n",
    "                'd' : \"1101\",\n",
    "                'e' : \"1110\",\n",
    "                'f' : \"1111\",\n",
    "                \"0000\" : '0',\n",
    "                \"0001\" : '1',\n",
    "                \"0010\" : '2',\n",
    "                \"0011\" : '3',\n",
    "                \"0100\" : '4',\n",
    "                \"0101\" : '5',\n",
    "                \"0110\" : '6',\n",
    "                \"0111\" : '7',\n",
    "                \"1000\" : '8',\n",
    "                \"1001\" : '9',\n",
    "                \"1010\" : 'A',\n",
    "                \"1011\" : 'B',\n",
    "                \"1100\" : 'C',\n",
    "                \"1101\" : 'D',\n",
    "                \"1110\" : 'E',\n",
    "                \"1111\" : 'F',\n",
    "                \"1010\" : 'a',\n",
    "                \"1011\" : 'b',\n",
    "                \"1100\" : 'c',\n",
    "                \"1101\" : 'd',\n",
    "                \"1110\" : 'e',\n",
    "                \"1111\" : 'f',\n",
    "              }"
   ]
  },
  {
   "cell_type": "markdown",
   "id": "2aaa2fb5",
   "metadata": {},
   "source": [
    "### CONVERSIONS"
   ]
  },
  {
   "cell_type": "code",
   "execution_count": 11,
   "id": "0ef6386a",
   "metadata": {},
   "outputs": [],
   "source": [
    "def ConversionBinToHex(value):\n",
    "    res = \"\"\n",
    "    ct=0\n",
    "    temp = \"\"\n",
    "#     print(value)\n",
    "    for i in range(len(value)):\n",
    "        if ct<3:\n",
    "            temp = temp + value[i]\n",
    "            ct+=1\n",
    "        else:\n",
    "            temp = temp + value[i]\n",
    "#             print(temp)\n",
    "            res = res + Conversions[temp]\n",
    "            ct=0\n",
    "            temp = \"\"\n",
    "    return res"
   ]
  },
  {
   "cell_type": "code",
   "execution_count": 12,
   "id": "540a609d",
   "metadata": {},
   "outputs": [],
   "source": [
    "def ConversionHexToBin(value):\n",
    "    res = \"\"\n",
    "    for i in range(len(value)):\n",
    "        res = res + Conversions[value[i]]\n",
    "    return res"
   ]
  },
  {
   "cell_type": "code",
   "execution_count": 13,
   "id": "f5e257be",
   "metadata": {},
   "outputs": [],
   "source": [
    "def ConversionDecToBin(num):\n",
    "    res = bin(num).replace(\"0b\", \"\")\n",
    "    if(len(res)%4 != 0):\n",
    "        div = len(res) / 4\n",
    "        div = int(div)\n",
    "        counter =(4 * (div + 1)) - len(res)\n",
    "        for i in range(0, counter):\n",
    "            res = '0' + res\n",
    "    return res"
   ]
  },
  {
   "cell_type": "code",
   "execution_count": 14,
   "id": "a23f8c29",
   "metadata": {},
   "outputs": [],
   "source": [
    "def ConversionBinToDec(val):\n",
    "       \n",
    "    binary1 = val\n",
    "    decimal, i, n = 0, 0, 0\n",
    "    while(val != 0):\n",
    "        dec = val % 10\n",
    "        decimal = decimal + dec * pow(2, i)\n",
    "        val = val //10\n",
    "        i += 1\n",
    "    return decimal"
   ]
  },
  {
   "cell_type": "markdown",
   "id": "e3d0a632",
   "metadata": {},
   "source": [
    "## IMPORTANT FUNCC"
   ]
  },
  {
   "cell_type": "code",
   "execution_count": 58,
   "id": "e1daeeb0",
   "metadata": {},
   "outputs": [],
   "source": [
    "def XOR(A,B):\n",
    "    res = \"\"\n",
    "#     print(len(A))\n",
    "#     print(A)\n",
    "#     print(len(B))\n",
    "#     print(B)\n",
    "    for i in range(0,len(A)):\n",
    "        \n",
    "        if A[i] != B[i]:\n",
    "            res += \"1\"\n",
    "        else:\n",
    "            res += \"0\"\n",
    "    return res"
   ]
  },
  {
   "cell_type": "code",
   "execution_count": 16,
   "id": "d2ebd7ce",
   "metadata": {},
   "outputs": [],
   "source": [
    "def KeyShifting(key, no_shifts):\n",
    "    s = \"\"\n",
    "#     print(no_shifts)\n",
    "    for i in range(no_shifts):\n",
    "#         print(len(key))\n",
    "#         print(key)\n",
    "        for j in range(1,len(key)):\n",
    "            s = s + key[j]\n",
    "        s = s + key[0]\n",
    "        key = s\n",
    "        s = \"\"\n",
    "#         print(key)\n",
    "    return key"
   ]
  },
  {
   "cell_type": "code",
   "execution_count": 17,
   "id": "716ac1e2",
   "metadata": {},
   "outputs": [],
   "source": [
    "def Arrange(key, arr, n):\n",
    "    arrange = \"\"\n",
    "    for i in range(0, n):\n",
    "#         print(key[arr[i] - 1])\n",
    "        arrange = arrange + key[arr[i] - 1]\n",
    "    return arrange"
   ]
  },
  {
   "cell_type": "markdown",
   "id": "e0cacc3b",
   "metadata": {},
   "source": [
    "## 2. ECB FUNCTIONS"
   ]
  },
  {
   "cell_type": "code",
   "execution_count": 19,
   "id": "347542ed",
   "metadata": {},
   "outputs": [],
   "source": [
    "def Padding(plaintext):\n",
    "####### 64 BIT PER BLOCK --> 8 BYTES #######\n",
    "    padding_len = 8 - (len(plaintext) % 8) \n",
    "    padding = bytes([padding_len] * padding_len)\n",
    "    return plaintext + padding"
   ]
  },
  {
   "cell_type": "code",
   "execution_count": 20,
   "id": "6f1349e3",
   "metadata": {},
   "outputs": [],
   "source": [
    "def Unpadding(plaintext):\n",
    "    last_char = plaintext[-1]\n",
    "### ord: returns the number representing the unicode code of a specified character ##\n",
    "    if ord(last_char) < 8: \n",
    "        return plaintext.rstrip(last_char)\n",
    "    else:\n",
    "        return plaintext"
   ]
  },
  {
   "cell_type": "code",
   "execution_count": 21,
   "id": "b3f0f7b0",
   "metadata": {},
   "outputs": [],
   "source": [
    "def ECB(plaintext,block_size):\n",
    "    block=[]\n",
    "    for i in range(0,len(plaintext),block_size):        \n",
    "        block.append(plaintext[i:i+block_size])\n",
    "    return block"
   ]
  },
  {
   "cell_type": "markdown",
   "id": "0963f1dd",
   "metadata": {},
   "source": [
    "## 3. Sub-Key "
   ]
  },
  {
   "cell_type": "code",
   "execution_count": 22,
   "id": "10f887fc",
   "metadata": {},
   "outputs": [],
   "source": [
    "def KeyGeneration(Key_Len):\n",
    "    temp=''\n",
    "    for i in range(0,Key_Len):\n",
    "        k=random.randint(0,1)\n",
    "        temp+=str(k)\n",
    "    return temp"
   ]
  },
  {
   "cell_type": "code",
   "execution_count": 23,
   "id": "51d7eecf",
   "metadata": {},
   "outputs": [],
   "source": [
    "def KeyGen():\n",
    "    Key = KeyGeneration(56)\n",
    "    Left_Key = Key[0:28] \n",
    "    Right_Key = Key[28:56] \n",
    "    RoundKey_Binary = []\n",
    "    RoundKey_Hexa = []\n",
    "    for i in range(0, 16):\n",
    "        Left_Key = KeyShifting(Left_Key, Shift_table[i])\n",
    "        Right_Key = KeyShifting(Right_Key, Shift_table[i])\n",
    "\n",
    "        Res = Left_Key + Right_Key\n",
    "\n",
    "        round_key = Arrange(Res, Key_compression, 48)\n",
    "        RoundKey_Binary.append(round_key)\n",
    "        round_key\n",
    "        res2 = ConversionBinToHex(round_key)\n",
    "        RoundKey_Hexa.append(res2)\n",
    "    return RoundKey_Binary,RoundKey_Hexa,Key\n",
    "    "
   ]
  },
  {
   "cell_type": "markdown",
   "id": "cf880a40",
   "metadata": {},
   "source": [
    "## 3. DES MAIN FUNCTION"
   ]
  },
  {
   "cell_type": "code",
   "execution_count": 63,
   "id": "2d817d8e",
   "metadata": {},
   "outputs": [],
   "source": [
    "def Encryption(Plain_text,RoundKey_Hexa,RoundKey_Binary):\n",
    "    Final = \"\"\n",
    "    NEW = []\n",
    "    Plain_text = Arrange(Plain_text, IP, 64)\n",
    "#     print(\"len el plain\" + str(len(Plain_text)))\n",
    "#####        SPLITTT           #####\n",
    "    Left_PT = Plain_text[0:32]\n",
    "    Right_PT = Plain_text[32:64]\n",
    "#     print(len(Right_PT))\n",
    "#     print(len(Left_PT))\n",
    "#     print( ConversionBinToHex(Left_PT))\n",
    "#     print( ConversionBinToHex(Right_PT))\n",
    "    Res_Sbox = \" \"\n",
    "#######     16 roundsssss     #######\n",
    "    for i in range(0,16):\n",
    "######     Expansion        ######\n",
    "        RExpansion = Arrange(Right_PT, Expansion, 48)\n",
    "#         print(\"len el expan\" + str(len(RExpansion)))\n",
    "# #         print(RoundKey_Binary[i])\n",
    "#         print(\"len el bin\" + str(len(RoundKey_Binary[i])))\n",
    "######     XOR KEY OF THE ROUND        ######\n",
    "        Res_XOR = XOR(RExpansion ,RoundKey_Binary[i])\n",
    "        \n",
    "######     S-BOX CALCC        ######\n",
    "        Sbox_Res = \"\"\n",
    "        for s in range(0,8):\n",
    "        ## Row  Position 0 & 6\n",
    "        ## Column Position 1 --> 5\n",
    "            Row = int(Res_XOR[s * 6] + Res_XOR[s * 6 + 5],2)\n",
    "            Col = int(Res_XOR[s * 6 + 1] + Res_XOR[s * 6 + 2] + Res_XOR[s * 6 + 3] + Res_XOR[s * 6 + 4],2)\n",
    "            val = S_box[s][Row][Col]\n",
    "\n",
    "            Sbox_Res = Sbox_Res + ConversionDecToBin(val)\n",
    "        \n",
    "        Sbox_Res = Arrange(Sbox_Res, Permutation, 32)\n",
    "\n",
    "            # XOR left and sbox_str\n",
    "        Result = XOR(Left_PT , Sbox_Res)\n",
    "        Left_PT = Result\n",
    "\n",
    "#######       Swappperrrrr   #########\n",
    "        if(i != 15):\n",
    "            temp=Right_PT\n",
    "            Right_PT=Left_PT\n",
    "            Left_PT = temp\n",
    "        NEW.append(\"Round \"+ str(i + 1)+ \" \"+str( ConversionBinToHex(Left_PT))+ \" \"+str( ConversionBinToHex(Right_PT))+ \" \"+str(RoundKey_Hexa[i]))\n",
    "\n",
    "    # Combination\n",
    "    Final = Left_PT + Right_PT \n",
    "    Cipher_Text = Arrange(Final, IP_Inverse, 64)    \n",
    "    return Cipher_Text,NEW"
   ]
  },
  {
   "cell_type": "markdown",
   "id": "5026b548",
   "metadata": {},
   "source": [
    "### ENCRYPTION PHASE"
   ]
  },
  {
   "cell_type": "code",
   "execution_count": 134,
   "id": "370ba369",
   "metadata": {},
   "outputs": [],
   "source": [
    "def Encrypt(message,RoundKey_Binary,RoundKey_Hexa,Key,Flag_File):\n",
    "    cipher_text=[]\n",
    "#     print(message)\n",
    "#     print(type(message))\n",
    "\n",
    "    if Flag_File == 1 or Flag_File == 0:\n",
    "        string= message.encode('utf-8')\n",
    "        hex_str = string.hex()\n",
    "    if Flag_File == 2:\n",
    "        string = message\n",
    "#         string= message.encode('utf-8')\n",
    "#     print(message)\n",
    "\n",
    "    new=Padding(string)\n",
    "    blocks_enc=ECB(new,8)\n",
    "    print(len(blocks_enc))\n",
    "    text=[]\n",
    "    for i in range (0,len(blocks_enc)):\n",
    "        hex_str = blocks_enc[i].hex()\n",
    "        Hex_PT = ConversionHexToBin(hex_str)\n",
    "        cipher,steps = Encryption(Hex_PT,RoundKey_Hexa,RoundKey_Binary)\n",
    "        cipher_text.append(cipher)\n",
    "    EncryptionLog(string,Key,blocks_enc,steps,cipher_text)\n",
    "#     print(cipher_text)\n",
    "    return cipher_text,blocks_enc"
   ]
  },
  {
   "cell_type": "markdown",
   "id": "385e1c64",
   "metadata": {},
   "source": [
    "### DECRYPTION PHASE"
   ]
  },
  {
   "cell_type": "code",
   "execution_count": 148,
   "id": "c90e0508",
   "metadata": {},
   "outputs": [],
   "source": [
    "def Decrypt(cipher_text,Inverse_Rk_Bin,Inverse_Rk_Hexa,Key,Flag_File):\n",
    "    text = []\n",
    "    for i in range(0,len(cipher_text)):\n",
    "#         print(\"decrypt hexa\"+ str(len(Inverse_Rk_Hexa)))\n",
    "#         print(\"decrypt inverse\" + str(len(Inverse_Rk_Bin)))\n",
    "        pt,dec_steps = Encryption(cipher_text[i],Inverse_Rk_Hexa,Inverse_Rk_Bin)\n",
    "        plain = ConversionBinToHex(pt)\n",
    "        if Flag_File == 2:\n",
    "            text.append(bytes.fromhex(plain).decode())\n",
    "        else :\n",
    "            text.append(bytes.fromhex(plain).decode())\n",
    "    new_text=''.join(text)\n",
    "    new2=Unpadding(new_text)\n",
    "    cipher_text_res=''.join(cipher_text)\n",
    "    cipher_text_res=ConversionBinToHex(cipher_text_res)\n",
    "    DecryptionLog(cipher_text_res, Key, dec_steps, new2)\n",
    "    return new2"
   ]
  },
  {
   "cell_type": "markdown",
   "id": "378a5908",
   "metadata": {},
   "source": [
    "## Log files for encryption"
   ]
  },
  {
   "cell_type": "code",
   "execution_count": 136,
   "id": "221b112f",
   "metadata": {},
   "outputs": [],
   "source": [
    "def EncryptionLog(string,Key,x,steps,cipher_text):\n",
    "    with open('Encryption.txt', 'w') as f:\n",
    "        f.write('Encoded Plain text: ' + str(string))\n",
    "        f.write('\\n')\n",
    "        f.write('Key: ' + str(Key))\n",
    "        f.write('\\n')\n",
    "        f.write('ECB result: ' + str(x))\n",
    "        f.write('\\n')\n",
    "        f.write('\\n')\n",
    "        f.write('Encryption Steps: ')\n",
    "        f.write('\\n')\n",
    "        f.write('                    Left    Right    Round Key ')\n",
    "        f.write('\\n')\n",
    "        for i in range(0,len(steps)):\n",
    "            f.write('STEP '+ str(i) + \"--> \" + str(steps[i]))\n",
    "            f.write('\\n')\n",
    "        f.write('\\n')\n",
    "        f.write('Encryption for each block: ')\n",
    "        f.write('\\n')\n",
    "#         print(len(x))\n",
    "#         print(len(cipher_text))\n",
    "        for i in range(0,len(x)):\n",
    "            f.write('Block '+ str(i) + \": \"+ str(x[i])+ \" --> \" + str(cipher_text[i]))\n",
    "            f.write('\\n')"
   ]
  },
  {
   "cell_type": "markdown",
   "id": "b2b27bdc",
   "metadata": {},
   "source": [
    "## Log files for decryption"
   ]
  },
  {
   "cell_type": "code",
   "execution_count": 137,
   "id": "5193ba03",
   "metadata": {},
   "outputs": [],
   "source": [
    "def DecryptionLog(cipher_text_res,Key,dec_steps,new2):\n",
    "    with open('Decryption.txt', 'w') as f:\n",
    "        f.write('Cipher text: ' + str(cipher_text_res))\n",
    "        f.write('\\n')\n",
    "        f.write('Key: ' + str(Key))\n",
    "        f.write('\\n')\n",
    "        f.write('\\n')\n",
    "        f.write('Decryption Steps: ')\n",
    "        f.write('\\n')\n",
    "        f.write('                    Left    Right    Round Key ')\n",
    "        f.write('\\n')\n",
    "        for i in range(0,len(dec_steps)):\n",
    "            f.write('STEP '+ str(i) + \"--> \" + str(dec_steps[i]))\n",
    "            f.write('\\n')\n",
    "        f.write('\\n')\n",
    "        f.write('Decrypted message: ' + str(new2))"
   ]
  }
 ],
 "metadata": {
  "kernelspec": {
   "display_name": "Python 3",
   "language": "python",
   "name": "python3"
  },
  "language_info": {
   "codemirror_mode": {
    "name": "ipython",
    "version": 3
   },
   "file_extension": ".py",
   "mimetype": "text/x-python",
   "name": "python",
   "nbconvert_exporter": "python",
   "pygments_lexer": "ipython3",
   "version": "3.8.8"
  }
 },
 "nbformat": 4,
 "nbformat_minor": 5
}
