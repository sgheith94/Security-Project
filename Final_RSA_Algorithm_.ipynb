{
 "cells": [
  {
   "cell_type": "code",
   "execution_count": null,
   "id": "5236bf9a",
   "metadata": {},
   "outputs": [],
   "source": [
    "import math\n",
    "from math import sqrt\n",
    "from random import randint"
   ]
  },
  {
   "cell_type": "markdown",
   "id": "50ef627b",
   "metadata": {},
   "source": [
    "# Functions"
   ]
  },
  {
   "cell_type": "markdown",
   "id": "77394ae0",
   "metadata": {},
   "source": [
    "# 1- Key Generation"
   ]
  },
  {
   "cell_type": "code",
   "execution_count": null,
   "id": "f4204e5a",
   "metadata": {},
   "outputs": [],
   "source": [
    "def KeyGenRSA():\n",
    "    def IsPrime(Number):\n",
    "        prime_flag = 0\n",
    "        for i in range(2, int(sqrt(Number)) + 1):\n",
    "            if (Number % i == 0):\n",
    "                prime_flag = 1\n",
    "                break\n",
    "        if (prime_flag == 0):\n",
    "            return 1\n",
    "        else:\n",
    "            return 0\n",
    "        \n",
    "    def GCD(a,h):   \n",
    "        while True:\n",
    "            temp = a%h\n",
    "            if temp == 0:            \n",
    "                return h\n",
    "            a = h\n",
    "            h = temp\n",
    "    #################################################\n",
    "    Var = []\n",
    "    while True:\n",
    "        P = randint(1, 100000)\n",
    "        Q = randint(1, 100000)   \n",
    "\n",
    "        if IsPrime(P) == 1 and IsPrime(Q) == 1 and P!=Q:\n",
    "            break\n",
    "        \n",
    "    n = P*Q    \n",
    "    print(\"P-> \" + str(P) + \" , Q-> \" + str(Q) + \" , n-> \" + str(n)) \n",
    "    Var.append(P)\n",
    "    Var.append(Q)\n",
    "    \n",
    "    #################################################\n",
    "    \n",
    "    ET = (P-1) * (Q-1)\n",
    "    while True:\n",
    "        e = randint(1, ET)\n",
    "        if GCD(e,ET) == 1:\n",
    "            break\n",
    "    \n",
    "    print(\"e-> \" + str(e) , \", ø(n)-> \" + str(ET))\n",
    "    Var.append(ET)\n",
    "    \n",
    "    #################################################\n",
    "    \n",
    "    d = pow(e, -1, ET)\n",
    "    print(\"d-> \" + str(d))\n",
    "    \n",
    "    #################################################\n",
    "    \n",
    "    PR = (d,n)\n",
    "    PU = (e,n)\n",
    "    print(\"Public Key-> \" + str(PU))\n",
    "    print(\"Private Key-> \" + str(PR))\n",
    "    return PU , PR , Var"
   ]
  },
  {
   "cell_type": "markdown",
   "id": "3011517d",
   "metadata": {},
   "source": [
    "# 2- Encryption"
   ]
  },
  {
   "cell_type": "code",
   "execution_count": null,
   "id": "fee28bbd",
   "metadata": {},
   "outputs": [],
   "source": [
    "def EncryptRSA(Msg , e , n):\n",
    "    def Block(Text , n):\n",
    "        NewAlpha = Text\n",
    "        M = NewAlpha[0]\n",
    "        ct = 1\n",
    "        for i in range(1 ,len(NewAlpha)):\n",
    "            M += NewAlpha[i]\n",
    "            if len(M) > len(str(n)):\n",
    "                return ct\n",
    "            else:\n",
    "                ct+=1\n",
    "        return ct\n",
    "    \n",
    "    def Padding(Msg):\n",
    "        NewAlpha=[]\n",
    "        for i in range(len(Msg)):\n",
    "            ASCII = str(ord(Msg[i]))\n",
    "            if len(ASCII) == 2:\n",
    "                    ASCII = '0' + ASCII \n",
    "            NewAlpha.append(ASCII)\n",
    "        return NewAlpha\n",
    "    \n",
    "    #################################################\n",
    "    \n",
    "    Msg = Padding(Msg)\n",
    "    \n",
    "    #################################################\n",
    "    \n",
    "    CypherText = []\n",
    "    Text=''\n",
    "    BlockNum = Block(Msg,n)\n",
    "    ct = 0\n",
    "    print(\"Number Of Blocks = \" + str(BlockNum))\n",
    "    for i in range(len(Msg)):\n",
    "        ASCII = Msg[i]\n",
    "        Text+= str(ASCII)\n",
    "        if ct == (BlockNum - 1):\n",
    "            CypherText.append(pow(int(Text) , e , n))\n",
    "            Text=''\n",
    "            ct=-1\n",
    "        ct+=1\n",
    "    print(\"The Encrypted Message is: \" + str(CypherText))\n",
    "    \n",
    "    return CypherText , BlockNum"
   ]
  },
  {
   "cell_type": "markdown",
   "id": "386eb9ad",
   "metadata": {},
   "source": [
    "# 3- Decryption"
   ]
  },
  {
   "cell_type": "code",
   "execution_count": null,
   "id": "af87bcaa",
   "metadata": {},
   "outputs": [],
   "source": [
    "def DecryptRSA(CypherText , d , n):\n",
    "    DecryptedText=[]\n",
    "    for i in CypherText:\n",
    "        temp = pow(i , d , n)\n",
    "        DecryptedText.append(temp)\n",
    "\n",
    "    print(\"The Decrypted Message is: \" + str(DecryptedText))\n",
    "    \n",
    "    #################################################\n",
    "    \n",
    "    PlainText =''\n",
    "    for i in range (len(DecryptedText)):\n",
    "        if len(str(DecryptedText[i])) % 3 == 0:\n",
    "            Number = str(DecryptedText[i])\n",
    "            text=''\n",
    "            for j in range(len(Number)):\n",
    "                text+=Number[j]\n",
    "                if (j+1) % 3 == 0:\n",
    "                    if text[0] == '0':\n",
    "                        PlainText += chr(int(text[1:]))\n",
    "                    else:\n",
    "                        PlainText += chr(int(text))\n",
    "                    text=''\n",
    "        else:\n",
    "            t = str(DecryptedText[i])\n",
    "            text = t[0] + t[1]\n",
    "            PlainText += chr(int(text))\n",
    "            text=''\n",
    "            ct = 0\n",
    "            for j in range(2 , len(t)):\n",
    "                text+=t[j]\n",
    "                if (ct+1) % 3 == 0:\n",
    "                    if text[0] == '0':\n",
    "                        PlainText += chr(int(text[1:]))\n",
    "                    else:\n",
    "                        PlainText += chr(int(text))\n",
    "                    text=''\n",
    "                    ct=-1\n",
    "                ct+=1\n",
    "    print(\"\\n\")\n",
    "    print(\"--------------------------------------------\")\n",
    "    print(\"\\n\")\n",
    "    print(\"The Original Message: \" + str(PlainText))\n",
    "    return PlainText"
   ]
  },
  {
   "cell_type": "markdown",
   "id": "c7a5d037",
   "metadata": {},
   "source": [
    "# 4- Creating Log Files"
   ]
  },
  {
   "cell_type": "code",
   "execution_count": null,
   "id": "2b04b59c",
   "metadata": {},
   "outputs": [],
   "source": [
    "def RSALogFiles(PU , PR , CypherText , DecryptedText , BlockNum , Var):\n",
    "    with open('Log.txt', 'w') as f:\n",
    "        f.write('Random Variables: P -> ' + str(Var[0]) + ' , Q -> ' + str(Var[1]) + ' , ø(n) -> ' + str(Var[2]))\n",
    "        f.write('\\n')\n",
    "        f.write('------------------------')\n",
    "        f.write('\\n')\n",
    "        \n",
    "        f.write('e -> ' + str(PU[0]) + ('\\nn -> ' + str(PU[1])))\n",
    "        f.write('\\n')\n",
    "        f.write('Public Key: ' + str(PU))\n",
    "        \n",
    "        f.write('\\n')\n",
    "        f.write('------------------------')\n",
    "        f.write('\\n')\n",
    "        \n",
    "        f.write('d -> ' + str(PR[0]) + ('\\nn -> ' + str(PR[1])))\n",
    "        \n",
    "        f.write('\\n')\n",
    "        f.write('Private Key: ' + str(PR))\n",
    "        \n",
    "        f.write('\\n')\n",
    "        f.write('------------------------')\n",
    "        f.write('\\n')\n",
    "        \n",
    "        f.write('Number Of Blocks Needed = ' + str(BlockNum))\n",
    "        \n",
    "        f.write('\\n')\n",
    "        f.write('------------------------')\n",
    "        f.write('\\n')\n",
    "\n",
    "        f.write('Encrypted Message: ') \n",
    "        for i in CypherText:\n",
    "            f.write(str(i))\n",
    "        f.write('\\n')\n",
    "        \n",
    "        f.write('------------------------')\n",
    "        f.write('\\n')\n",
    "        f.write('Original Message: ') \n",
    "        for i in DecryptedText:\n",
    "            f.write(str(i))\n",
    "        f.write('\\n')\n",
    "    print(\"Done\")"
   ]
  },
  {
   "cell_type": "markdown",
   "id": "1cf1455c",
   "metadata": {},
   "source": [
    "# Main"
   ]
  },
  {
   "cell_type": "code",
   "execution_count": 1,
   "id": "e66c2315",
   "metadata": {},
   "outputs": [],
   "source": [
    "# PublicKey , PrivateKey , Var = KeyGenRSA()"
   ]
  },
  {
   "cell_type": "code",
   "execution_count": 2,
   "id": "6a268440",
   "metadata": {},
   "outputs": [],
   "source": [
    "# Msg = input(\"Enter Your Message: \")"
   ]
  },
  {
   "cell_type": "code",
   "execution_count": 3,
   "id": "804760d8",
   "metadata": {},
   "outputs": [],
   "source": [
    "# EncryptedText , BlockNum = EncryptRSA(Msg , PublicKey[0] , PublicKey[1])"
   ]
  },
  {
   "cell_type": "code",
   "execution_count": 4,
   "id": "22f4293f",
   "metadata": {},
   "outputs": [],
   "source": [
    "# DecryptedText = DecryptRSA(EncryptedText , PrivateKey[0] , PrivateKey[1])"
   ]
  },
  {
   "cell_type": "code",
   "execution_count": 5,
   "id": "901f389d",
   "metadata": {},
   "outputs": [],
   "source": [
    "# RSALogFiles(PublicKey , PrivateKey , EncryptedText , DecryptedText , BlockNum , Var)"
   ]
  },
  {
   "cell_type": "code",
   "execution_count": null,
   "id": "320c2846",
   "metadata": {},
   "outputs": [],
   "source": []
  }
 ],
 "metadata": {
  "kernelspec": {
   "display_name": "Python 3",
   "language": "python",
   "name": "python3"
  },
  "language_info": {
   "codemirror_mode": {
    "name": "ipython",
    "version": 3
   },
   "file_extension": ".py",
   "mimetype": "text/x-python",
   "name": "python",
   "nbconvert_exporter": "python",
   "pygments_lexer": "ipython3",
   "version": "3.8.8"
  }
 },
 "nbformat": 4,
 "nbformat_minor": 5
}
